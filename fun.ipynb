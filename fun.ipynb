{
 "cells": [
  {
   "cell_type": "code",
   "execution_count": 1,
   "metadata": {},
   "outputs": [
    {
     "data": {
      "text/plain": [
       "[2, 4, 5]"
      ]
     },
     "execution_count": 1,
     "metadata": {},
     "output_type": "execute_result"
    }
   ],
   "source": [
    "# interactive python note book \n",
    "nums=[2,4,5]\n",
    "nums"
   ]
  },
  {
   "cell_type": "code",
   "execution_count": 3,
   "metadata": {},
   "outputs": [
    {
     "data": {
      "text/plain": [
       "[4, 8, 10]"
      ]
     },
     "execution_count": 3,
     "metadata": {},
     "output_type": "execute_result"
    }
   ],
   "source": [
    "dbl=[n*2 for n in nums]\n",
    "dbl\n"
   ]
  },
  {
   "cell_type": "markdown",
   "metadata": {},
   "source": [
    "### Created summarized post\n",
    "- json load\n",
    "- json dump\n",
    "- normal for loop\n"
   ]
  },
  {
   "cell_type": "code",
   "execution_count": 5,
   "metadata": {},
   "outputs": [
    {
     "data": {
      "text/plain": [
       "{'posts_summary': [{'title': 'The Future of AI',\n",
       "   'author': 'Alice',\n",
       "   'number_of_comments': 2},\n",
       "  {'title': 'Learning Python', 'author': 'Bob', 'number_of_comments': 1},\n",
       "  {'title': 'Web Development Trends',\n",
       "   'author': 'Charlie',\n",
       "   'number_of_comments': 0}]}"
      ]
     },
     "execution_count": 5,
     "metadata": {},
     "output_type": "execute_result"
    }
   ],
   "source": [
    "import json\n",
    "\n",
    "\n",
    "with open(\"blog_post.json\", \"r\") as file:\n",
    "    information = json.load(file)\n",
    "    # print(information)\n",
    "\n",
    "posts_summary = []\n",
    "\n",
    "for post in information[\"posts\"]:\n",
    "    post_summary = {\n",
    "        \"title\": post[\"title\"],\n",
    "        \"author\": post[\"author\"],\n",
    "        \"number_of_comments\": len(post[\"comments\"]),\n",
    "    }\n",
    "    posts_summary.append(post_summary)\n",
    "\n",
    "summary_data = {\"posts_summary\": posts_summary}\n",
    "summary_data\n",
    "\n",
    "with open(\"posts_summary.json\", \"w\") as file:\n",
    "    json.dump(summary_data, file, indent=4)"
   ]
  },
  {
   "cell_type": "markdown",
   "metadata": {},
   "source": [
    "### Using List comprehension\n"
   ]
  },
  {
   "cell_type": "code",
   "execution_count": null,
   "metadata": {},
   "outputs": [],
   "source": [
    "with open(\"blog_post.json\", \"r\") as file:\n",
    "    information = json.load(file)\n",
    "    # print(information)\n",
    "\n",
    "    posts_summary = []\n",
    "\n",
    "    for post in information[\"posts\"]:\n",
    "        post_summary = {\n",
    "            \"title\": post[\"title\"],\n",
    "            \"author\": post[\"author\"],\n",
    "            \"number_of_comments\": len(post[\"comments\"]),\n",
    "        }\n",
    "        posts_summary.append(post_summary)\n",
    "\n",
    "    summary_data = {\"posts_summary\": posts_summary}\n",
    "\n",
    "    with open(\"posts_summary.json\", \"w\") as file:\n",
    "        json.dump(summary_data, file, indent=4)"
   ]
  }
 ],
 "metadata": {
  "kernelspec": {
   "display_name": "myenv",
   "language": "python",
   "name": "python3"
  },
  "language_info": {
   "codemirror_mode": {
    "name": "ipython",
    "version": 3
   },
   "file_extension": ".py",
   "mimetype": "text/x-python",
   "name": "python",
   "nbconvert_exporter": "python",
   "pygments_lexer": "ipython3",
   "version": "3.10.8"
  }
 },
 "nbformat": 4,
 "nbformat_minor": 2
}
